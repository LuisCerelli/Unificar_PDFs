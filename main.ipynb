{
 "cells": [
  {
   "cell_type": "code",
   "execution_count": null,
   "metadata": {},
   "outputs": [],
   "source": [
    "import streamlit as st\n",
    "import PyPDF2"
   ]
  },
  {
   "cell_type": "code",
   "execution_count": null,
   "metadata": {},
   "outputs": [],
   "source": [
    "def main():\n",
    "    st.image('/Users/luisalbertocerelli/Desktop/00-Todo/00-Practicas_Data_Engineer/14_Unificar_PDFs/assets/01.png')\n",
    "    st.header('fusion de PDF')\n",
    "    st.subheader('Adjunte archivos PDF para combinar')\n",
    "\n",
    "    attached_pdfs = "
   ]
  }
 ],
 "metadata": {
  "kernelspec": {
   "display_name": "Python 3",
   "language": "python",
   "name": "python3"
  },
  "language_info": {
   "name": "python",
   "version": "3.12.3"
  }
 },
 "nbformat": 4,
 "nbformat_minor": 2
}
